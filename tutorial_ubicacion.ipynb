{
 "cells": [
  {
   "cell_type": "markdown",
   "id": "27b9de03-4b39-4d41-afff-e649d2eb655e",
   "metadata": {},
   "source": [
    "<h1 style=\"text-align:center\">Supply Chain Design con Optimización lineal en Python</h1>\n",
    "<hr></hr>"
   ]
  },
  {
   "cell_type": "markdown",
   "id": "63419c90-a98e-448a-9681-4ed0eb49ff15",
   "metadata": {},
   "source": [
    "<p>Supongamos que una empresa que tiene presencia en 12 ciudades diferentes ha decidido que es momento de abrir sus propios centros de distribución. Sin embargo, existen 5 localidades en donde sería viable implementarlos. ¿Cómo escoger la opción de mayor costo-efectividad?. Este tipo de situaciones han sido ampliamente abordadas en la Investigación de Operaciones usando Programación Lineal. En este tutorial mostraré como implementar este tipo de modelos matemáticos usando Python, de manera concisa y fácilemnte escalable.</p>"
   ]
  },
  {
   "cell_type": "markdown",
   "id": "e6e90022-4d0e-4606-91c1-6d34272f025a",
   "metadata": {},
   "source": [
    "<p>Para contextualizar, la progrmación lineal u optimización lineal es una técnica usada para encontrar los mínimos o máximos de una función lineal. Muchas decisiones de interés comercial pueden ser planteadas de esta manera, como por ejemplo la formulación de alimentos balanceados, distribución de la capacidad de producción, entre otras.\n",
    "</p>\n",
    "<p>Específicamente, un modelo de programación lineal requiere definir una función objetivo y la definción de restricciones para delimitar las posibles soluciones. En nuestro caso, buscamos minimizar el costo de transporte a partir de la apertura de centros de distribución, siempre y cuando permitan atender adecuadamente la demanda de los clientes en 12 diferentes ciudades. A continuación explicaré como plantear el problema y resolverlo usando Python.</p>"
   ]
  },
  {
   "cell_type": "markdown",
   "id": "17bddebe-6d6d-4c7f-aff2-6592515512cf",
   "metadata": {},
   "source": [
    "<h2>Planteamiento y Resolución</h2>"
   ]
  },
  {
   "cell_type": "markdown",
   "id": "3064a174-d6cf-4ea5-97cc-83caaf1fda8d",
   "metadata": {},
   "source": [
    "<h3>Requisitos</h3>"
   ]
  },
  {
   "cell_type": "markdown",
   "id": "82ce4411-b058-4c9e-be93-db49ee7d53c7",
   "metadata": {},
   "source": [
    "<p>Los paquetes que vamos a utilizar son Numpy, Pandas y <a href=\"https://coin-or.github.io/pulp/#\" >PuLP</a>. En el link se encuentran los detalles para la instalación del último paquete, así como la documentación respectiva. Adicionalmente, el notebook y los datos usados para el ejercicio pueden descargarse aquí.</p>"
   ]
  },
  {
   "cell_type": "markdown",
   "id": "cb022bd1-7a64-4f04-8c44-031c3f66e7bd",
   "metadata": {},
   "source": [
    "<p>El primer paso es importar los paquetes</p> "
   ]
  },
  {
   "cell_type": "code",
   "execution_count": 2,
   "id": "35d26295-e33d-46ee-ad6b-200c7ccb51c7",
   "metadata": {},
   "outputs": [],
   "source": [
    "import pandas as pd\n",
    "import pulp\n",
    "import numpy as np"
   ]
  },
  {
   "cell_type": "markdown",
   "id": "12347a22-8f4e-43f6-96b4-f34ef3f70038",
   "metadata": {},
   "source": [
    "<h3>Preparación de datos</h3>"
   ]
  },
  {
   "cell_type": "markdown",
   "id": "557a35b6-55b7-46be-8df0-b463b62b69bc",
   "metadata": {},
   "source": [
    "<p>A continuación usaremos pandas para leer el archivo excel que contiene los datos de la ubicación y capacidad de los centros de distribución, la demanda y ubicación de los clientes, y las distancias entre clientes y centros de distribución, así como los costos fijos de operación y costos variables de transporte.<p/>"
   ]
  },
  {
   "cell_type": "code",
   "execution_count": 3,
   "id": "c391215e-d49a-4feb-988c-e6e10445d981",
   "metadata": {},
   "outputs": [
    {
     "data": {
      "text/plain": [
       "['Demanda', 'Oferta', 'Distancias', 'Costo km']"
      ]
     },
     "execution_count": 3,
     "metadata": {},
     "output_type": "execute_result"
    }
   ],
   "source": [
    "archivo = 'facility_location.xlsx'\n",
    "df = pd.ExcelFile(archivo)\n",
    "names = df.sheet_names\n",
    "names"
   ]
  },
  {
   "cell_type": "markdown",
   "id": "3c54e6a7-fdcc-40e4-b768-88ac859147d7",
   "metadata": {},
   "source": [
    "<p>La variable 'names' contiene los datos de todas las hojas del archivo excel. Para facilitar las cosas, crearemos un diccionario con los nombres de las hojas como 'keys' y los datos como valores. Posteriormente, convertiremos la información en listas o 'arrays' dependiendo la necesidad.</p>"
   ]
  },
  {
   "cell_type": "code",
   "execution_count": 5,
   "id": "383e17b6-bdfd-4a4f-a21c-d66acca27e25",
   "metadata": {},
   "outputs": [],
   "source": [
    "# %%\n",
    "information = {k: df.parse(k, index_col=0) for k in names}\n",
    "centros_distri = information['Oferta'].index.tolist()\n",
    "fábricas = information['Demanda'].index.tolist()\n",
    "capacity = dict(information['Oferta']['Capacidad'])\n",
    "demand = dict(information['Demanda']['Cantidad'])\n",
    "d = np.array(information['Distancias'].values)\n",
    "cKm = np.array(information['Costo km'].values)\n",
    "# Crear una matriz de costo de transporte multiplicando distancias por costo km\n",
    "x = d * cKm\n",
    "y = information['Oferta']['Costo fijo'].values\n",
    "cost = np.array([])\n",
    "for n in range(5):\n",
    "    cost = np.concatenate((cost, x[:, n]))"
   ]
  },
  {
   "cell_type": "markdown",
   "id": "2c2ca8ae-aae3-4daa-a3d2-bd59ac9560d4",
   "metadata": {},
   "source": [
    "<p>Lo que sigue es crear una lista de pares que representen la ruta que conecta los centros de distribución con los puntos de consumo usando 'lists comprehension', para posteriormente tabular cada ruta con su respectivo costo. Además, creamos un diccionario para relacionar a los centros de distribución con sus costos fijos de operación.</p>"
   ]
  },
  {
   "cell_type": "code",
   "execution_count": 6,
   "id": "41e34289-4615-4fed-a6f8-ee29c77496f2",
   "metadata": {},
   "outputs": [],
   "source": [
    "pairs = [(i, j) for i in centros_distri for j in fábricas]\n",
    "price_per_route = {k: v for k, v in zip(pairs, cost)}\n",
    "fixed_cost = {k: v for k, v in zip(centros_distri, y)}"
   ]
  },
  {
   "cell_type": "markdown",
   "id": "6cebbb79-15f2-4dfd-9c12-15edba10eb59",
   "metadata": {},
   "source": [
    "<h3>Creación del Modelo</h3>"
   ]
  },
  {
   "cell_type": "markdown",
   "id": "c88cb0fe-1e95-4b44-82c5-4d5f3b22dee9",
   "metadata": {},
   "source": [
    "<h4>Definición de la Función Objetivo y las Variables</h4>\n",
    "<p>Como señalamos, la intención de nuestro modelo es minimizar el costo de transporte considerando la posibilidad de abrir uno o más centros de distribución (CD) para satisfacer la demanda, lo que se puede representar en la siguiente función:</p>"
   ]
  },
  {
   "cell_type": "markdown",
   "id": "43e68efb-536b-497d-8419-5a902ec20e56",
   "metadata": {},
   "source": [
    "$Costo Total = CostoTranporte + CostosFijos$\n",
    "\n",
    "$CostoTransporte = CostoKm \\,CD \\,a \\,Cliente * Cantidad$\n",
    "\n",
    "$CostosFijos = Suma Costos Fijos CD$"
   ]
  },
  {
   "cell_type": "markdown",
   "id": "04e55d5a-19cd-4059-9e33-1c6c2635774b",
   "metadata": {},
   "source": [
    "<p>Lo mismo se puede escribir en notación matemática:</p>\n",
    "$ Min    \\, z= \\Sigma_i\\Sigma_jc_{ij}x_{ij} + \\Sigma_if_iY_i$\n",
    "<br></br>\n",
    "<p>El primer término de la ecuación es la sumatoria del costo por km multiplicado por la cantidad transportada, y el segundo término corresponde a la sumatoria del costo fijo de operación de un centro de distribución por la variable binaria Y, que es 0 en caso de que el centro sea descartado y 1 si se implementa. Tanto la cantidad transportada como la variable binaria son las variables de decisión.</p>\n",
    "<p>Teniendo en cuenta todo lo anterior, continuaremos con la formulación del modelo propiamente dicha. En este punto es importante resaltar brevemente la ventaja de usar PuLP para el problema de optimización, en detrimento de otras opciones como <a href=\"https://docs.scipy.org/doc/scipy/reference/generated/scipy.optimize.linprog.html\">scipy.optimize</a>, ya que PuLP permite trabajar con funciones con varios términos, es decir, podemos agregar más definiciones a la ecuación que modela nuestro problema, en este caso, la función del costo de operación.</p>\n",
    "<p>El primer paso consiste en crear una variable (model) que es una instancia de la clase pulp.LpProblem. Aquí especificaremos el nombre del modelo y el tipo de otpmización (minimizar). A continuación definiremos las variables de decisión, por una parte la cantidad transportada desde los CD a los clientes, y por otra parte la decisión de abrir o no el CD. El planteamiento termina cuando incluimos en el modelo la función que pretendemos minimizar, tal como lo describimos en notación matemática.</p>"
   ]
  },
  {
   "cell_type": "code",
   "execution_count": 7,
   "id": "575590b3-b8bd-48e3-9c9a-3ef6e0b0c86f",
   "metadata": {},
   "outputs": [],
   "source": [
    "model = pulp.LpProblem('Supply_cost_minimization', sense=pulp.LpMinimize)\n",
    "route = pulp.LpVariable.dicts('cdist_fbrca', pairs, lowBound=0, cat='Integer')\n",
    "c_dist = pulp.LpVariable.dicts('cdist', centros_distri, cat='Binary')\n",
    "model += pulp.lpSum([price_per_route[i] * route[i] for i in pairs]\n",
    "                     + [fixed_cost[i] * c_dist[i] for i in centros_distri])"
   ]
  },
  {
   "cell_type": "markdown",
   "id": "8bae1e04-17d6-472b-918e-0ceacb16a296",
   "metadata": {},
   "source": [
    "<h4>Restricciones</h4>\n",
    "<p>Por lo general los modelos de programación lineal buscan la solución óptima de la función objetivo, sin que las variables de decisión excedan ciertos límites denominados restricciones o condicionantes. En el ejemplo en cuestión, las restricciones implican que la cantidad despachada de cualquier centro de distribución sea igual o menor a su capacidad, que la cantidad que llega a los clientes sea igual o mayor a su requerimiento, el número de centros debe ser por lo menos 1 y no más de 5. A estos condicionantes debemos agregar dos más: todos los valores deben ser números positivos, y como ya mencioné, la variable Y solo puede tomar el valor de 0 o 1.</p>\n",
    "<p>Por último, incluiremos una importante restricción denominada restricción de conexión, que fuerce al modelo a satisfacer la demanda de los clientes únicamente desde los centros que están en operación. Esto se consigue con la inecuación final que señala que la cantidad transportada debe ser menor a la multiplicación de un número arbitrario (M) por la variable binaria, esto se traduce en que si un CD no será abierto (variable binaria igual a 0) la desigualdad no se cumple y por tanto esa opción se descarta.</p>"
   ]
  },
  {
   "cell_type": "code",
   "execution_count": 8,
   "id": "dd103cd1-c025-43c3-a54a-eb3bc3ba7482",
   "metadata": {},
   "outputs": [],
   "source": [
    "M = information['Demanda']['Cantidad'].sum()*10\n",
    "num_max_cent = 5\n",
    "num_min_cent = 1\n",
    "\n",
    "for i in centros_distri:\n",
    "    model += pulp.lpSum(route[(i, j)] for j in fábricas) <= capacity[i]\n",
    "    \n",
    "for j in fábricas:\n",
    "    model += pulp.lpSum(route[(i, j)] for i in centros_distri) >= demand[j]\n",
    "\n",
    "for k in route.keys():\n",
    "    model += route[k] - M*c_dist[k[0]] <= 0\n",
    "\n",
    "model += sum(c_dist.values()) >= 1\n",
    "model += sum(c_dist.values()) <= 5"
   ]
  },
  {
   "cell_type": "markdown",
   "id": "d4c87559-7fc9-4aec-8c11-165d23563a4d",
   "metadata": {},
   "source": [
    "<h4>Solución y visualización de resultados</h4>\n",
    "<p>Lo que resta es resolver el modelo y averiguar si se econtró una solución factible(que respete las restricciones y cumpla con el objetivo). En caso que la respuesta sea óptima, continuaremos con la visualización de las cantidades transportadas y sus puntos de origen y destino.</p>"
   ]
  },
  {
   "cell_type": "code",
   "execution_count": 9,
   "id": "cfaef178-9ebe-4aca-9d72-8143c966930c",
   "metadata": {},
   "outputs": [
    {
     "data": {
      "text/plain": [
       "'Optimal'"
      ]
     },
     "execution_count": 9,
     "metadata": {},
     "output_type": "execute_result"
    }
   ],
   "source": [
    "model.solve()\n",
    "pulp.LpStatus[model.status]"
   ]
  },
  {
   "cell_type": "code",
   "execution_count": 11,
   "id": "11e08c07-10d7-4e87-b84d-9aab815938a5",
   "metadata": {},
   "outputs": [
    {
     "name": "stdout",
     "output_type": "stream",
     "text": [
      "El costo mínimo de transporte y operación es 66285.0\n",
      "cdist_BO 1.0\n",
      "cdist_PR 1.0\n",
      "cdist_SP 1.0\n",
      "cdist_fbrca_('BO',_'BO') 425.0\n",
      "cdist_fbrca_('BO',_'CO') 43.0\n",
      "cdist_fbrca_('BO',_'MN') 110.0\n",
      "cdist_fbrca_('BO',_'NAS') 86.0\n",
      "cdist_fbrca_('BO',_'PO') 66.0\n",
      "cdist_fbrca_('BO',_'WO') 182.0\n",
      "cdist_fbrca_('PR',_'PR') 320.0\n",
      "cdist_fbrca_('SP',_'BR') 12.0\n",
      "cdist_fbrca_('SP',_'HA') 125.0\n",
      "cdist_fbrca_('SP',_'NH') 129.0\n",
      "cdist_fbrca_('SP',_'NL') 28.0\n",
      "cdist_fbrca_('SP',_'SP') 220.0\n"
     ]
    }
   ],
   "source": [
    "# %%\n",
    "total_cost = pulp.value(model.objective)\n",
    "print(f'El costo mínimo de transporte y operación es {total_cost}')\n",
    "# %%\n",
    "for v in model.variables():\n",
    "    if v.varValue > 0:\n",
    "        print(v.name, v.varValue)"
   ]
  },
  {
   "cell_type": "markdown",
   "id": "bd52284b-6450-4720-a08e-4571c3ea4ee1",
   "metadata": {},
   "source": [
    "<h3>Consideraciones finales</h3>\n",
    "<p>En este tutorial analizamos como resolver un problema de optimización usando el paquete PuLP de Python, que permite trabajar con funciones objetivo compuestas por varios términos, como en el caso del diseño de redes de distribución en donde se debe tener en cuenta costos variables de transporte, así como costos fijos de operación. Si bien el ejemplo trabajado comprehende un número relativamente pequeño de variables, la forma en la que programamos la solución permite que sea facilmente escalable, ya que lo único que deberíamos modificar sería el archivo que contiene los datos.</p>\n",
    "<p>Finalmente, este tipo de modelos de optimización pueden ser ampliados para asemejarse más a situaciones reales al incluir la existencia de inventarios y mayor número de productos.</p>"
   ]
  }
 ],
 "metadata": {
  "kernelspec": {
   "display_name": "Python 3",
   "language": "python",
   "name": "python3"
  },
  "language_info": {
   "codemirror_mode": {
    "name": "ipython",
    "version": 3
   },
   "file_extension": ".py",
   "mimetype": "text/x-python",
   "name": "python",
   "nbconvert_exporter": "python",
   "pygments_lexer": "ipython3",
   "version": "3.7.6"
  }
 },
 "nbformat": 4,
 "nbformat_minor": 5
}
